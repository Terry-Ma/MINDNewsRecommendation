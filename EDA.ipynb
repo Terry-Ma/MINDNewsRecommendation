{
 "metadata": {
  "language_info": {
   "codemirror_mode": {
    "name": "ipython",
    "version": 3
   },
   "file_extension": ".py",
   "mimetype": "text/x-python",
   "name": "python",
   "nbconvert_exporter": "python",
   "pygments_lexer": "ipython3",
   "version": "3.6.9-final"
  },
  "orig_nbformat": 2,
  "kernelspec": {
   "name": "python3",
   "display_name": "Python 3",
   "language": "python"
  }
 },
 "nbformat": 4,
 "nbformat_minor": 2,
 "cells": [
  {
   "cell_type": "code",
   "execution_count": 2,
   "metadata": {},
   "outputs": [],
   "source": [
    "import json\n",
    "\n",
    "from collections import defaultdict\n",
    "\n",
    "data_path = './data/'"
   ]
  },
  {
   "source": [
    "# 词表大小与未登录词，先看标题 & 摘要"
   ],
   "cell_type": "code",
   "metadata": {},
   "execution_count": 4,
   "outputs": []
  },
  {
   "cell_type": "code",
   "execution_count": 8,
   "metadata": {},
   "outputs": [],
   "source": [
    "with open('{}/train_large/news.tsv'.format(data_path)) as f:\n",
    "    for line in f:\n",
    "        break"
   ]
  },
  {
   "cell_type": "code",
   "execution_count": 10,
   "metadata": {},
   "outputs": [],
   "source": [
    "news_id, category, subcategory, title, abstract, url, title_entities, abstract_entities = line.replace('\\n', '').split('\\t')"
   ]
  },
  {
   "cell_type": "code",
   "execution_count": 25,
   "metadata": {},
   "outputs": [
    {
     "output_type": "stream",
     "name": "stdout",
     "text": [
      "N88753\nlifestyle\nlifestyleroyals\nThe Brands Queen Elizabeth, Prince Charles, and Prince Philip Swear By\nShop the notebooks, jackets, and more that the royals can't live without.\nhttps://assets.msn.com/labs/mind/AAGH0ET.html\n[{'Label': 'Prince Philip, Duke of Edinburgh', 'Type': 'P', 'WikidataId': 'Q80976', 'Confidence': 1.0, 'OccurrenceOffsets': [48], 'SurfaceForms': ['Prince Philip']}, {'Label': 'Charles, Prince of Wales', 'Type': 'P', 'WikidataId': 'Q43274', 'Confidence': 1.0, 'OccurrenceOffsets': [28], 'SurfaceForms': ['Prince Charles']}, {'Label': 'Elizabeth II', 'Type': 'P', 'WikidataId': 'Q9682', 'Confidence': 0.97, 'OccurrenceOffsets': [11], 'SurfaceForms': ['Queen Elizabeth']}]\n[]\n"
     ]
    }
   ],
   "source": [
    "print(news_id)\n",
    "print(category)\n",
    "print(subcategory)\n",
    "print(title)\n",
    "print(abstract)\n",
    "print(url)\n",
    "print(json.loads(title_entities))\n",
    "print(json.loads(abstract_entities))"
   ]
  },
  {
   "cell_type": "code",
   "execution_count": 37,
   "metadata": {},
   "outputs": [],
   "source": [
    "train_vocab = defaultdict(int)\n",
    "test_vocab = defaultdict(int)"
   ]
  },
  {
   "cell_type": "code",
   "execution_count": 38,
   "metadata": {},
   "outputs": [],
   "source": [
    "with open('{}/data_large/train/news.tsv'.format(data_path), encoding='utf-8') as f:\n",
    "    for line in f:\n",
    "        _, _, _, title, abstract, _, _, _ = line.replace('\\n', '').split('\\t')\n",
    "        for word in title.split():\n",
    "            train_vocab[word] += 1\n",
    "        for word in abstract.split():\n",
    "            train_vocab[word] += 1"
   ]
  },
  {
   "cell_type": "code",
   "execution_count": 39,
   "metadata": {},
   "outputs": [],
   "source": [
    "with open('{}/test/news.tsv'.format(data_path), encoding='utf-8') as f:\n",
    "    for line in f:\n",
    "        _, _, _, title, abstract, _, _, _ = line.replace('\\n', '').split('\\t')\n",
    "        for word in title.split():\n",
    "            test_vocab[word] += 1\n",
    "        for word in abstract.split():\n",
    "            test_vocab[word] += 1"
   ]
  },
  {
   "cell_type": "code",
   "execution_count": 40,
   "metadata": {},
   "outputs": [
    {
     "output_type": "execute_result",
     "data": {
      "text/plain": [
       "218873"
      ]
     },
     "metadata": {},
     "execution_count": 40
    }
   ],
   "source": [
    "len(train_vocab)"
   ]
  },
  {
   "cell_type": "code",
   "execution_count": 41,
   "metadata": {},
   "outputs": [
    {
     "output_type": "execute_result",
     "data": {
      "text/plain": [
       "242343"
      ]
     },
     "metadata": {},
     "execution_count": 41
    }
   ],
   "source": [
    "len(test_vocab)"
   ]
  },
  {
   "cell_type": "code",
   "execution_count": 45,
   "metadata": {},
   "outputs": [
    {
     "output_type": "execute_result",
     "data": {
      "text/plain": [
       "33951"
      ]
     },
     "metadata": {},
     "execution_count": 45
    }
   ],
   "source": [
    "len(set(train_vocab).union(set(test_vocab))) - len(set(train_vocab))   # 3w+ 的未登录词"
   ]
  },
  {
   "cell_type": "code",
   "execution_count": 51,
   "metadata": {},
   "outputs": [],
   "source": [
    "n = 0\n",
    "for _, freq in train_vocab.items():\n",
    "    if freq > 10:\n",
    "        n += 1"
   ]
  },
  {
   "cell_type": "code",
   "execution_count": 52,
   "metadata": {},
   "outputs": [
    {
     "output_type": "execute_result",
     "data": {
      "text/plain": [
       "28820"
      ]
     },
     "metadata": {},
     "execution_count": 52
    }
   ],
   "source": [
    "n     # 去掉低频词后词典的大小还可以接受，但是如果再加上正文，可能词典大小还会增大"
   ]
  },
  {
   "cell_type": "code",
   "execution_count": 53,
   "metadata": {},
   "outputs": [],
   "source": [
    "train_save_words = set([word for word in train_vocab if train_vocab[word] > 10])\n",
    "test_save_words = set([word for word in test_vocab if test_vocab[word] > 10])"
   ]
  },
  {
   "cell_type": "code",
   "execution_count": 55,
   "metadata": {},
   "outputs": [
    {
     "output_type": "execute_result",
     "data": {
      "text/plain": [
       "479"
      ]
     },
     "metadata": {},
     "execution_count": 55
    }
   ],
   "source": [
    "len(train_save_words.union(test_save_words)) - len(test_save_words)    # 去掉低频词后未登录词还是有点多"
   ]
  },
  {
   "cell_type": "code",
   "execution_count": 56,
   "metadata": {},
   "outputs": [],
   "source": [
    "# 尝试 bpe subword，看词典大小和未登录词的变化\n",
    "# 开源工具 subword-nmt\n",
    "# 先使用训练集生成词典\n",
    "# 然后将词典用于验证集和测试集\n",
    "# 在训练模型前，将训练集、验证集、测试集根据空格 split 后转化为 index 即可"
   ]
  },
  {
   "cell_type": "code",
   "execution_count": 58,
   "metadata": {},
   "outputs": [],
   "source": [
    "# 前面就把词典和截断的长度定下来，或者说截断长度相同 & 合并次数 & 使用 title/abstract/content 这三个条件都相同的情况下，词典就存储下来\n",
    "# 每次实验都读取之前的词典，如果出现新的组合，再重新生成词典\n",
    "# 词典按照最大的训练集生成，在使用demo 和 small测试时也使用最大的词典"
   ]
  },
  {
   "cell_type": "code",
   "execution_count": 61,
   "metadata": {},
   "outputs": [],
   "source": [
    "# 首先获取新闻的正文\n",
    "nid2url = {}\n",
    "with open('{}/data_large/train/news.tsv'.format(data_path), encoding='utf-8') as f:\n",
    "    for line in f:\n",
    "        news_id, _, _, _, _, url, _, _ = line.replace('\\n', '').split('\\t')\n",
    "        nid2url[news_id] = url\n",
    "with open('{}/test/news.tsv'.format(data_path), encoding='utf-8') as f:\n",
    "    for line in f:\n",
    "        news_id, _, _, _, _, url, _, _ = line.replace('\\n', '').split('\\t')\n",
    "        nid2url[news_id] = url\n",
    "with open('{}/data_large/val/news.tsv'.format(data_path), encoding='utf-8') as f:\n",
    "    for line in f:\n",
    "        news_id, _, _, _, _, url, _, _ = line.replace('\\n', '').split('\\t')\n",
    "        nid2url[news_id] = url"
   ]
  },
  {
   "cell_type": "code",
   "execution_count": 62,
   "metadata": {},
   "outputs": [
    {
     "output_type": "execute_result",
     "data": {
      "text/plain": [
       "130379"
      ]
     },
     "metadata": {},
     "execution_count": 62
    }
   ],
   "source": [
    "len(nid2url)  # 13w新闻"
   ]
  },
  {
   "cell_type": "code",
   "execution_count": 64,
   "metadata": {},
   "outputs": [],
   "source": [
    "with open('{}/news_url'.format(data_path), 'w') as f:\n",
    "    for news_id, url in nid2url.items():\n",
    "        f.write('{}\\t{}\\n'.format(news_id, url))"
   ]
  },
  {
   "cell_type": "code",
   "execution_count": 65,
   "metadata": {},
   "outputs": [
    {
     "output_type": "execute_result",
     "data": {
      "text/plain": [
       "'https://assets.msn.com/labs/mind/BBWyOPQ.html'"
      ]
     },
     "metadata": {},
     "execution_count": 65
    }
   ],
   "source": [
    "# 解析方法 https://github.com/msnews/MIND/tree/master/crawler\n",
    "url"
   ]
  },
  {
   "cell_type": "code",
   "execution_count": 1,
   "metadata": {},
   "outputs": [],
   "source": [
    "import torch"
   ]
  },
  {
   "cell_type": "code",
   "execution_count": 2,
   "metadata": {},
   "outputs": [],
   "source": [
    "a = torch.tensor(list(range(6))).view(2, 3)"
   ]
  },
  {
   "cell_type": "code",
   "execution_count": 6,
   "metadata": {},
   "outputs": [],
   "source": [
    "b = torch.tensor([0, 1]).unsqueeze(1)"
   ]
  },
  {
   "cell_type": "code",
   "execution_count": 9,
   "metadata": {},
   "outputs": [
    {
     "output_type": "execute_result",
     "data": {
      "text/plain": [
       "tensor([[0, 1, 2],\n",
       "        [3, 4, 5]])"
      ]
     },
     "metadata": {},
     "execution_count": 9
    }
   ],
   "source": [
    "a"
   ]
  },
  {
   "cell_type": "code",
   "execution_count": 8,
   "metadata": {},
   "outputs": [
    {
     "output_type": "execute_result",
     "data": {
      "text/plain": [
       "tensor([[0, 0, 0],\n",
       "        [3, 4, 5]])"
      ]
     },
     "metadata": {},
     "execution_count": 8
    }
   ],
   "source": [
    "a * b"
   ]
  },
  {
   "cell_type": "code",
   "execution_count": 12,
   "metadata": {},
   "outputs": [
    {
     "output_type": "execute_result",
     "data": {
      "text/plain": [
       "tensor([3.])"
      ]
     },
     "metadata": {},
     "execution_count": 12
    }
   ],
   "source": [
    "torch.linspace(3, 10, 1)"
   ]
  },
  {
   "cell_type": "code",
   "execution_count": 13,
   "metadata": {},
   "outputs": [],
   "source": [
    "import numpy as np"
   ]
  },
  {
   "cell_type": "code",
   "execution_count": 15,
   "metadata": {},
   "outputs": [
    {
     "output_type": "stream",
     "name": "stdout",
     "text": [
      "Help on built-in function randint:\n\nrandint(...) method of numpy.random.mtrand.RandomState instance\n    randint(low, high=None, size=None, dtype=int)\n    \n    Return random integers from `low` (inclusive) to `high` (exclusive).\n    \n    Return random integers from the \"discrete uniform\" distribution of\n    the specified dtype in the \"half-open\" interval [`low`, `high`). If\n    `high` is None (the default), then results are from [0, `low`).\n    \n    .. note::\n        New code should use the ``integers`` method of a ``default_rng()``\n        instance instead; please see the :ref:`random-quick-start`.\n    \n    Parameters\n    ----------\n    low : int or array-like of ints\n        Lowest (signed) integers to be drawn from the distribution (unless\n        ``high=None``, in which case this parameter is one above the\n        *highest* such integer).\n    high : int or array-like of ints, optional\n        If provided, one above the largest (signed) integer to be drawn\n        from the distribution (see above for behavior if ``high=None``).\n        If array-like, must contain integer values\n    size : int or tuple of ints, optional\n        Output shape.  If the given shape is, e.g., ``(m, n, k)``, then\n        ``m * n * k`` samples are drawn.  Default is None, in which case a\n        single value is returned.\n    dtype : dtype, optional\n        Desired dtype of the result. Byteorder must be native.\n        The default value is int.\n    \n        .. versionadded:: 1.11.0\n    \n    Returns\n    -------\n    out : int or ndarray of ints\n        `size`-shaped array of random integers from the appropriate\n        distribution, or a single such random int if `size` not provided.\n    \n    See Also\n    --------\n    random_integers : similar to `randint`, only for the closed\n        interval [`low`, `high`], and 1 is the lowest value if `high` is\n        omitted.\n    Generator.integers: which should be used for new code.\n    \n    Examples\n    --------\n    >>> np.random.randint(2, size=10)\n    array([1, 0, 0, 0, 1, 1, 0, 0, 1, 0]) # random\n    >>> np.random.randint(1, size=10)\n    array([0, 0, 0, 0, 0, 0, 0, 0, 0, 0])\n    \n    Generate a 2 x 4 array of ints between 0 and 4, inclusive:\n    \n    >>> np.random.randint(5, size=(2, 4))\n    array([[4, 0, 2, 1], # random\n           [3, 2, 2, 0]])\n    \n    Generate a 1 x 3 array with 3 different upper bounds\n    \n    >>> np.random.randint(1, [3, 5, 10])\n    array([2, 2, 9]) # random\n    \n    Generate a 1 by 3 array with 3 different lower bounds\n    \n    >>> np.random.randint([1, 5, 7], 10)\n    array([9, 8, 7]) # random\n    \n    Generate a 2 by 4 array using broadcasting with dtype of uint8\n    \n    >>> np.random.randint([1, 3, 5, 7], [[10], [20]], dtype=np.uint8)\n    array([[ 8,  6,  9,  7], # random\n           [ 1, 16,  9, 12]], dtype=uint8)\n\n"
     ]
    }
   ],
   "source": [
    "help(np.random.randint)"
   ]
  },
  {
   "cell_type": "code",
   "execution_count": 23,
   "metadata": {},
   "outputs": [
    {
     "output_type": "execute_result",
     "data": {
      "text/plain": [
       "array([[0, 1, 1],\n",
       "       [0, 0, 0]])"
      ]
     },
     "metadata": {},
     "execution_count": 23
    }
   ],
   "source": [
    "np.random.randint(low=0, high=2, size=(2, 3))"
   ]
  },
  {
   "cell_type": "code",
   "execution_count": 1,
   "metadata": {},
   "outputs": [],
   "source": [
    "# 将新闻正文拼接到 news.tsv 中"
   ]
  },
  {
   "cell_type": "code",
   "execution_count": 34,
   "metadata": {},
   "outputs": [],
   "source": [
    "def merge_body(path, nid2body):\n",
    "    with open('{}/news.tsv'.format(path), encoding='utf-8') as f,\\\n",
    "        open('{}/news_with_body.tsv'.format(path), mode='w', encoding='utf-8') as g:\n",
    "        news_num = 0\n",
    "        na_num = 0\n",
    "        for line in f:\n",
    "            line = line.replace('\\n', '')\n",
    "            _, _, _, _, _, url, _, _ = line.split('\\t')\n",
    "            try:\n",
    "                uid = url.split('/')[-1].split('.')[-2]\n",
    "            except Exception as e:\n",
    "                uid = 'none'\n",
    "                na_num += 1\n",
    "            body = nid2body.get(uid, '')\n",
    "            g.write('{}\\t{}\\n'.format(line, body))\n",
    "            news_num += 1\n",
    "    print(path, news_num, na_num)"
   ]
  },
  {
   "cell_type": "code",
   "execution_count": 46,
   "metadata": {},
   "outputs": [],
   "source": [
    "paths = [\n",
    "    './data/data_large/train/',\n",
    "    './data/data_large/val/',\n",
    "    './data/test/',\n",
    "    './data/data_small/train/',\n",
    "    './data/data_small/val/',\n",
    "    './data/data_demo/train/',\n",
    "    './data/data_demo/val/',\n",
    "]\n",
    "\n",
    "with open('./data/msn.json') as f:\n",
    "    nid2body = json.load(f)\n",
    "nid2body = {i['nid']:' '.join(''.join(i['body']).replace('\\xa0', '').split()) for i in nid2body}\n",
    "# nid2body = {i['nid']:i['body'] for i in nid2body}"
   ]
  },
  {
   "cell_type": "code",
   "execution_count": 35,
   "metadata": {},
   "outputs": [
    {
     "output_type": "stream",
     "name": "stdout",
     "text": [
      "./data/data_large/train/ 101527 0\n",
      "./data/data_large/val/ 72023 0\n",
      "./data/test/ 120961 0\n",
      "./data/data_small/train/ 51282 0\n",
      "./data/data_small/val/ 42416 0\n",
      "./data/data_demo/train/ 26740 26740\n",
      "./data/data_demo/val/ 18723 18723\n"
     ]
    }
   ],
   "source": [
    "for path in paths:\n",
    "    merge_body(path, nid2body)"
   ]
  },
  {
   "cell_type": "code",
   "execution_count": null,
   "metadata": {},
   "outputs": [],
   "source": [
    "# .... 可见demo数据集跟large/small不一样，small是从large中抽出来的，demo不是"
   ]
  },
  {
   "cell_type": "code",
   "execution_count": 41,
   "metadata": {},
   "outputs": [],
   "source": [
    "with open('{}/data_large/train/news_with_body.tsv'.format(data_path), encoding='utf-8') as f:\n",
    "    for line in f:\n",
    "        _, _, _, _, _, _, _, _, body = line.replace('\\n', '').split('\\t')\n",
    "        break"
   ]
  },
  {
   "cell_type": "code",
   "execution_count": 50,
   "metadata": {},
   "outputs": [
    {
     "output_type": "stream",
     "name": "stdout",
     "text": [
      "The royals are free to shop wherever they choose, but they tend to keep it in the family—the royal warrant family, that is.The precious few brands with royal warrants are permitted display the Royal Arms in their marketing materials. The royals usually refuse to promote commercial goods, but the warrants are a rare and prominent exception. They're an obvious boon to any branding efforts, but getting your hands on one is no easy task. First, a company must provide goods or services to the royal family (or more specifically, to Queen Elizabeth, Prince Philip, and Prince Charles, the three royals able to award warrants) for five years. Then, as Nigel Fulton, owner of royal warrantee Fulton Umbrellas, told Town & Country earlier this year, \"you have to wait until you’re invited to apply, so it’s not automatic at all.\" To apply, companies need to submit a laundry list of disclosures, which ensure that the business meets various standards. \"The finances, your supply base, where all of the components come from, your policies on human resources, your supply policies, your health and safety policies, your environmental policies,\" Fulton recalled.Only after that thorough vetting process can a brand be awarded a royal warrant—and even then, the warrants have to be renewed every five years. Still, a select 14 companies have managed to acquire not just one, but all three, granted by the Queen, Prince Philip, and Prince Charles. A few of them, unfortunately, are hard to patronize from abroad (even if Blossom & Browne's Sycamore really does provide the best dry-cleaning around). But here, we've gathered a full 10 of the royal family's favorite brands that you can try out yourself.Suppliers of Stationery, Leather Goods, and Office EquipmentShop NowSmythson started working with royalty all the way back in the 1890s, when Queen Victoria commissioned the company to create stationery for each of the monarch's residences. These days, the brand continues to provide Her Majesty's stationery, while Prince Philip relies on their leather goods. For his part, Prince Charles sources both stationery and office equipment from Smythson.Manufacturers of Waterproof and Protective ClothingShop NowFamily-owned brand Barbour has been around since 1894, but was awarded its first royal warrant in 1974, by Prince Philip. The Queen must've been jealous of her husband's outwear, as by 1982, she'd awarded the brand a royal warrant of her own. Prince Charles was the last to jump on the bandwagon, in 1987.Suppliers of Objets d'ArtShop NowHalcyon Days prides itself on its British craftsmanship, and its dedication to making enamel products by hand. The company holds all three royal warrants, supplying each holder with objets d'art.OutfittersShop NowAccording to the Royal Warrant Holders' Association website, this luxury brand was the first to invent self-supporting trousers, back in the 1930s. Now, self-supporting pants are (thankfully) commonplace—but Daks remains a British heritage brand, which supplies clothing to the Queen, as well as Princes Charles and Philip.Robe Makers and TailorsShop NowEver wonder what brand was behind Queen Elizabeth's sumptuous coronation robe, or Prince Philip's investiture attire? That would be Ede & Ravenscroft, the British sovereigns' go-to robe makers since 1689. To this day, the brand supplies robes to all three royal warrant holders, and provides additional tailoring services for the Queen. (They do also, on occasion, make clothing that can be worn by mere mortals, like the legal shirt pictured here.)Tailors and OutfittersShop NowGieves & Hawkes has its roots in two separate companies: one supplying the British Royal Navy, and the other supplying the British Army (that one, Hawkes, got its first royal warrant in 1799). Now united, Gieves & Hawkes sells all manner of men's suits, blazers, and the like, as well as military garb. The brand serves as the Queen's livery and military tailors, while Princes Charles and Philip don its civilian clothing as well.BooksellersShop NowAs the oldest bookstore in London, Hatchards claims that Queen Charlotte (wife of King George III) was among the shop's first customers. Nowadays, Hatchards offers rare first editions and signed books alongside more standard literary offerings, and counts the Queen, Prince Charles, and Prince Philip as customers.Gun and Cartridge MakersShop NowQueen Victoria's son (the future King Edward VII) granted James Purdey his first royal warrant in 1868. A decade later, Queen Victoria followed with her own royal warrant; since then, every British monarch has awarded a warrant to the brand. In addition to the shooting supplies that the royals count on Purdey for, the company also produces leather goods and clothing.Tailors and KiltmakersShop NowKing George V granted Kinloch Anderson its first royal warrant, and since then, the brand has been the royals' go-to purveyors of kilts, tartans, and more.Manufacturers of Motor VehiclesAston Martin and Bentley also hold royal warrants, but Jaguar Land Rover is the only automotive company to boast all three. (Here, Prince Philip is pictured exploring a brand-new Jaguar during a 1957 visit t0 the Motor Industry Research Association.)\n"
     ]
    }
   ],
   "source": [
    "print(body)"
   ]
  },
  {
   "cell_type": "code",
   "execution_count": 51,
   "metadata": {},
   "outputs": [],
   "source": [
    "# 统计加入正文后的词典大小 & 文本长度\n"
   ]
  },
  {
   "cell_type": "code",
   "execution_count": 52,
   "metadata": {},
   "outputs": [],
   "source": [
    "train_vocab = defaultdict(int)\n",
    "test_vocab = defaultdict(int)\n",
    "\n",
    "with open('./data/data_large/train/news_with_body.tsv', encoding='utf-8') as f:\n",
    "    for line in f:\n",
    "        _, _, _, title, abstract, _, _, _, body = line.replace('\\n', '').split('\\t')\n",
    "        for word in title.split():\n",
    "            train_vocab[word] += 1\n",
    "        for word in abstract.split():\n",
    "            train_vocab[word] += 1\n",
    "        for word in body.split():\n",
    "            train_vocab[word] += 1\n",
    "\n",
    "with open('./data/test/news_with_body.tsv', encoding='utf-8') as f:\n",
    "    for line in f:\n",
    "        _, _, _, title, abstract, _, _, _, body = line.replace('\\n', '').split('\\t')\n",
    "        for word in title.split():\n",
    "            test_vocab[word] += 1\n",
    "        for word in abstract.split():\n",
    "            test_vocab[word] += 1\n",
    "        for word in body.split():\n",
    "            test_vocab[word] += 1"
   ]
  },
  {
   "cell_type": "code",
   "execution_count": 53,
   "metadata": {},
   "outputs": [
    {
     "output_type": "execute_result",
     "data": {
      "text/plain": [
       "1763223"
      ]
     },
     "metadata": {},
     "execution_count": 53
    }
   ],
   "source": [
    "len(train_vocab)"
   ]
  },
  {
   "cell_type": "code",
   "execution_count": 55,
   "metadata": {},
   "outputs": [
    {
     "output_type": "execute_result",
     "data": {
      "text/plain": [
       "1996238"
      ]
     },
     "metadata": {},
     "execution_count": 55
    }
   ],
   "source": [
    "len(test_vocab)"
   ]
  },
  {
   "cell_type": "code",
   "execution_count": 64,
   "metadata": {},
   "outputs": [],
   "source": [
    "n = 0\n",
    "for _, freq in train_vocab.items():\n",
    "    if freq > 100:\n",
    "        n += 1"
   ]
  },
  {
   "cell_type": "code",
   "execution_count": 66,
   "metadata": {},
   "outputs": [
    {
     "output_type": "execute_result",
     "data": {
      "text/plain": [
       "28701"
      ]
     },
     "metadata": {},
     "execution_count": 66
    }
   ],
   "source": [
    "n   # 词频大于100的在3w左右"
   ]
  },
  {
   "cell_type": "code",
   "execution_count": 67,
   "metadata": {},
   "outputs": [],
   "source": [
    "train_vocab = {k:v for k, v in train_vocab.items() if v >= 100}"
   ]
  },
  {
   "cell_type": "code",
   "execution_count": 68,
   "metadata": {},
   "outputs": [],
   "source": [
    "test_vocab = {k:v for k, v in test_vocab.items() if v >= 100}"
   ]
  },
  {
   "cell_type": "code",
   "execution_count": 69,
   "metadata": {},
   "outputs": [
    {
     "output_type": "execute_result",
     "data": {
      "text/plain": [
       "32607"
      ]
     },
     "metadata": {},
     "execution_count": 69
    }
   ],
   "source": [
    "len(test_vocab)   # 测试集中依然有很多未登录词"
   ]
  },
  {
   "cell_type": "code",
   "execution_count": null,
   "metadata": {},
   "outputs": [],
   "source": []
  },
  {
   "cell_type": "code",
   "execution_count": 70,
   "metadata": {},
   "outputs": [],
   "source": [
    "# 尝试 bpe subword，看看未登录词的现象能不能缓解"
   ]
  },
  {
   "cell_type": "code",
   "execution_count": 3,
   "metadata": {},
   "outputs": [],
   "source": [
    "with open('./data/data_large/train/news_with_body.tsv', encoding='utf-8') as f,\\\n",
    "    open('./data/bpe_corpus', mode='w', encoding='utf-8') as g:\n",
    "    for line in f:\n",
    "        _, _, _, title, abstract, _, _, _, body = line.replace('\\n', '').split('\\t')\n",
    "        g.write(title + ' ' + abstract + ' ' + body + '\\n')"
   ]
  },
  {
   "cell_type": "code",
   "execution_count": null,
   "metadata": {},
   "outputs": [],
   "source": []
  }
 ]
}